{
 "cells": [
  {
   "cell_type": "code",
   "execution_count": null,
   "id": "ab072674-d368-474e-a8c0-9e75b3e0dc3f",
   "metadata": {},
   "outputs": [],
   "source": [
    "FUNCTION calculateAverage(num1, num2):\n",
    "    IF num2 == 0\n",
    "        RETURN \"ERROR\"\n",
    "    ENDIF\n",
    "    RETURN num1 / num2\n",
    "END FUNCTION\n"
   ]
  },
  {
   "cell_type": "markdown",
   "id": "fbca5fa8-0501-4c76-8eca-909fc8e4daac",
   "metadata": {},
   "source": [
    "# a. Identify and describe the fault, error, and failure in the above code.\n",
    "\n",
    "Fault: A fault in this code is the failure to properly handle all edge cases for division. While the function correctly checks if num2 is zero to prevent division by zero, it might not handle all possible numerical input types, such as when non-numeric values are passed.\n",
    "\n",
    "Error: The error in the program would occur if a non-numeric or invalid value is passed to either num1 or num2, which may cause the division operation to break or behave unexpectedly. Since this isn't handled explicitly, it could raise a runtime error.\n",
    "\n",
    "Failure: A failure would happen when the program fails to execute correctly in certain situations, such as when num2 is zero. In this case, the function correctly returns \"ERROR\" instead of trying to divide by zero, which would cause the program to fail.\n",
    "\n"
   ]
  },
  {
   "cell_type": "markdown",
   "id": "b8f7aef1-ed08-42b4-b644-68bc876b644e",
   "metadata": {},
   "source": [
    "# 2. Given the following Python/Java function:"
   ]
  },
  {
   "cell_type": "code",
   "execution_count": 7,
   "id": "f9de7866-efbb-409f-ae6c-bb6dcbfd7339",
   "metadata": {},
   "outputs": [
    {
     "name": "stderr",
     "output_type": "stream",
     "text": [
      "test_even_number (__main__.TestIsEvenFunction.test_even_number) ... ok\n",
      "test_negative_even_number (__main__.TestIsEvenFunction.test_negative_even_number) ... ok\n",
      "test_negative_odd_number (__main__.TestIsEvenFunction.test_negative_odd_number) ... ok\n",
      "test_odd_number (__main__.TestIsEvenFunction.test_odd_number) ... ok\n",
      "test_zero (__main__.TestIsEvenFunction.test_zero) ... ok\n",
      "\n",
      "----------------------------------------------------------------------\n",
      "Ran 5 tests in 0.009s\n",
      "\n",
      "OK\n"
     ]
    }
   ],
   "source": [
    "import unittest\n",
    "\n",
    "class Even:\n",
    "    def is_even(self, num):\n",
    "        return num % 2 == 0\n",
    "\n",
    "class TestIsEvenFunction(unittest.TestCase):\n",
    "    \n",
    "    def setUp(self):\n",
    "        self.even_checker = Even()  \n",
    "    \n",
    "    def test_even_number(self):\n",
    "        self.assertTrue(self.even_checker.is_even(4))  \n",
    "        \n",
    "    def test_odd_number(self):\n",
    "        self.assertFalse(self.even_checker.is_even(5))  \n",
    "        \n",
    "    def test_zero(self):\n",
    "        self.assertTrue(self.even_checker.is_even(0))  \n",
    "    \n",
    "    def test_negative_even_number(self):\n",
    "        self.assertTrue(self.even_checker.is_even(-2))  \n",
    "    \n",
    "    def test_negative_odd_number(self):\n",
    "        self.assertFalse(self.even_checker.is_even(-3))  \n",
    "\n",
    "if __name__ == '__main__':\n",
    "    unittest.main(argv=[''], verbosity=2, exit=False)\n"
   ]
  },
  {
   "cell_type": "markdown",
   "id": "449c4dd3-bcd4-40ea-8a67-abd85f54504b",
   "metadata": {},
   "source": [
    "# 3. Consider a function calculate_discount(price, age) that calculates a discount based on age:\n",
    "    5% discount if age is less than 18.\n",
    "    10% discount if age is between 18 and 60 (inclusive).\n",
    "    15% discount if age is above 60.\n",
    "    a. Partition the input space for age.\n",
    "    \n",
    "    Partitioning the input space involves breaking down the age into meaningful ranges:\n",
    "    Age < 18 (young people get a 5% discount)\n",
    "    Age between 18 and 60 (inclusive) (adults get a 10% discount)\n",
    "    Age > 60 (senior citizens get a 15% discount)\n",
    "    b. Using boundary value analysis, provide test cases for each partition.\n",
    "    \n",
    "    Boundary value analysis helps to test at the edges of each partition. The following test cases cover the boundaries of the age ranges:\n",
    "    \n",
    "    Test for age less than 18:\n",
    "    \n",
    "    Age = 17 (just below 18)\n",
    "    Age = 0 (minimum possible age)\n",
    "    Test for age between 18 and 60 (inclusive):\n",
    "    \n",
    "    Age = 18 (boundary case at the lower end)\n",
    "    Age = 60 (boundary case at the upper end)\n",
    "    Age = 30 (midpoint of this range)\n",
    "    Test for age above 60:\n",
    "    \n",
    "    Age = 61 (just above 60)\n",
    "    Age = 100 (a high boundary value)\n",
    "# proved Testcase"
   ]
  },
  {
   "cell_type": "code",
   "execution_count": null,
   "id": "758e1ce2-99e2-43fa-99b2-01ee2f5c4ac5",
   "metadata": {},
   "outputs": [],
   "source": [
    "def test_calculate_discount():\n",
    "    assert calculate_discount(100, 17) == 5  \n",
    "    assert calculate_discount(100, 0) == 5   \n",
    "    assert calculate_discount(100, 18) == 10  \n",
    "    assert calculate_discount(100, 60) == 10  \n",
    "    assert calculate_discount(100, 30) == 10  \n",
    "    assert calculate_discount(100, 61) == 15  \n",
    "    assert calculate_discount(100, 100) == 15  \n"
   ]
  },
  {
   "cell_type": "markdown",
   "id": "3aaae203-e068-45a6-8233-b40679b50169",
   "metadata": {},
   "source": [
    "#   Boundary Values\n",
    "    For age less than 18:\n",
    "    Boundary value: Age = 0, Age = 17\n",
    "    For age between 18 and 60 (inclusive):\n",
    "    Boundary values: Age = 18, Age = 60\n",
    "    For age above 60:\n",
    "    Boundary value: Age = 61, Age = 100"
   ]
  },
  {
   "cell_type": "code",
   "execution_count": null,
   "id": "04e22791-41fd-4b47-a807-d8aa86c87023",
   "metadata": {},
   "outputs": [],
   "source": []
  },
  {
   "cell_type": "markdown",
   "id": "e2737a03-0986-4d12-b55d-4accdd7dada5",
   "metadata": {},
   "source": [
    "# 4. Given the below pseudocode:\n",
    "\n",
    "FUNCTION discountPrice(price, isMember, daysSinceRegistration):\n",
    "\n",
    "    IF isMember\n",
    "        IF daysSinceRegistration < 30\n",
    "            RETURN price * 0.95  // 5% discount for new members\n",
    "        ELSE IF daysSinceRegistration >= 30 AND daysSinceRegistration <= 365\n",
    "            RETURN price * 0.9  // 10% discount for members registered for 30 days up to 1 year\n",
    "        ELSE\n",
    "            RETURN price * 0.85  // 15% discount for members registered for more than 1 year\n",
    "        ENDIF\n",
    "    ELSE\n",
    "        RETURN price\n",
    "    ENDIF\n",
    "\n",
    "END FUNCTION\n"
   ]
  },
  {
   "cell_type": "code",
   "execution_count": 12,
   "id": "d1597f56-c5a7-467a-b5bb-c4eeed6232aa",
   "metadata": {},
   "outputs": [
    {
     "name": "stderr",
     "output_type": "stream",
     "text": [
      "test_member_30_to_365_days (__main__.TestDiscountPriceFunction.test_member_30_to_365_days) ... ok\n",
      "test_member_more_than_1_year (__main__.TestDiscountPriceFunction.test_member_more_than_1_year) ... ok\n",
      "test_new_member (__main__.TestDiscountPriceFunction.test_new_member) ... ok\n",
      "test_non_member (__main__.TestDiscountPriceFunction.test_non_member) ... ok\n",
      "test_even_number (__main__.TestIsEvenFunction.test_even_number) ... ok\n",
      "test_negative_even_number (__main__.TestIsEvenFunction.test_negative_even_number) ... ok\n",
      "test_negative_odd_number (__main__.TestIsEvenFunction.test_negative_odd_number) ... ok\n",
      "test_odd_number (__main__.TestIsEvenFunction.test_odd_number) ... ok\n",
      "test_zero (__main__.TestIsEvenFunction.test_zero) ... ok\n",
      "\n",
      "----------------------------------------------------------------------\n",
      "Ran 9 tests in 0.020s\n",
      "\n",
      "OK\n"
     ]
    }
   ],
   "source": [
    "import unittest\n",
    "\n",
    "# The discount_price function\n",
    "def discount_price(price, is_member, days_since_registration):\n",
    "    if is_member:\n",
    "        if days_since_registration < 30:\n",
    "            return price * 0.95  \n",
    "        elif 30 <= days_since_registration <= 365:\n",
    "            return price * 0.9  \n",
    "        else:\n",
    "            return price * 0.85  \n",
    "    else:\n",
    "        return price  \n",
    "\n",
    "# Unit test class\n",
    "class TestDiscountPriceFunction(unittest.TestCase):\n",
    "\n",
    "    def test_non_member(self):\n",
    "        self.assertEqual(discount_price(100, False, 50), 100)\n",
    "\n",
    "    def test_new_member(self):\n",
    "        self.assertEqual(discount_price(100, True, 20), 95)\n",
    "\n",
    "    def test_member_30_to_365_days(self):\n",
    "        self.assertEqual(discount_price(100, True, 200), 90)\n",
    "\n",
    "    def test_member_more_than_1_year(self):\n",
    "        self.assertEqual(discount_price(100, True, 400), 85)\n",
    "\n",
    "\n",
    "if __name__ == '__main__':\n",
    "    unittest.main(argv=[''], verbosity=2, exit=False)\n"
   ]
  },
  {
   "cell_type": "markdown",
   "id": "5ea0d6fd-de2a-4f86-a54d-1277a3411ebc",
   "metadata": {},
   "source": [
    "# 5. Selenium Script to Click Button and Validate Result"
   ]
  },
  {
   "cell_type": "markdown",
   "id": "237e9dca-b728-42ab-b6c5-115518c5dd38",
   "metadata": {},
   "source": [
    "# Part A: Script to Click the Button with ID submit_button"
   ]
  },
  {
   "cell_type": "code",
   "execution_count": 12,
   "id": "1b794dfb-5a52-460e-9280-6b915ae98f1d",
   "metadata": {},
   "outputs": [
    {
     "name": "stdout",
     "output_type": "stream",
     "text": [
      "Could not find button with ID 'top' or success message: Message: no such window: target window already closed\n",
      "from unknown error: web view not found\n",
      "  (Session info: chrome=130.0.6723.69)\n",
      "Stacktrace:\n",
      "#0 0x5a107ff8d13a <unknown>\n",
      "#1 0x5a107faa8460 <unknown>\n",
      "#2 0x5a107fa7e81f <unknown>\n",
      "#3 0x5a107fb2134d <unknown>\n",
      "#4 0x5a107fb373a9 <unknown>\n",
      "#5 0x5a107fb18db3 <unknown>\n",
      "#6 0x5a107fae7c10 <unknown>\n",
      "#7 0x5a107fae8bee <unknown>\n",
      "#8 0x5a107ff593cb <unknown>\n",
      "#9 0x5a107ff5d368 <unknown>\n",
      "#10 0x5a107ff46eec <unknown>\n",
      "#11 0x5a107ff5dee7 <unknown>\n",
      "#12 0x5a107ff2c13f <unknown>\n",
      "#13 0x5a107ff7b858 <unknown>\n",
      "#14 0x5a107ff7ba20 <unknown>\n",
      "#15 0x5a107ff8bfb6 <unknown>\n",
      "#16 0x726b1369ca94 <unknown>\n",
      "#17 0x726b13729c3c <unknown>\n",
      "\n"
     ]
    }
   ],
   "source": [
    "from selenium import webdriver\n",
    "from selenium.webdriver.common.by import By\n",
    "from selenium.webdriver.support.ui import WebDriverWait\n",
    "from selenium.webdriver.support import expected_conditions as EC\n",
    "import time\n",
    "#(A)\n",
    "class ButtonClicker:\n",
    "    def __init__(self, url):\n",
    "        self.driver = webdriver.Chrome()\n",
    "        self.url = url\n",
    "\n",
    "    def open_page(self):\n",
    "        self.driver.get(self.url)\n",
    "\n",
    "    def click_button(self, button_id):\n",
    "        time.sleep(5)  \n",
    "\n",
    "        try:\n",
    "           \n",
    "            submit_button = self.driver.find_element(By.ID, button_id)\n",
    "            submit_button.click()\n",
    "            \n",
    "            self.show_message(\"Button pressed successfully!\")\n",
    "            \n",
    "            \n",
    "            WebDriverWait(self.driver, 10).until(\n",
    "                EC.presence_of_element_located((By.CLASS_NAME, \"success_message\"))\n",
    "            )\n",
    "            print(\"Action confirmed: Success message appeared.\")\n",
    "            \n",
    "        except Exception as e:\n",
    "            print(f\"Could not find button with ID '{button_id}' or success message: {e}\")\n",
    "    #(B)\n",
    "    def show_message(self, message):\n",
    "        script = f\"\"\"\n",
    "        let messageBox = document.createElement('div');\n",
    "        messageBox.innerText = '{message}';\n",
    "        messageBox.style.position = 'fixed';\n",
    "        messageBox.style.bottom = '20px';\n",
    "        messageBox.style.right = '20px';\n",
    "        messageBox.style.padding = '50px 40px'; \n",
    "        messageBox.style.backgroundColor = '#4CAF50';\n",
    "        messageBox.style.color = 'white';\n",
    "        messageBox.style.fontSize = '24px';  \n",
    "        messageBox.style.borderRadius = '10px';\n",
    "        messageBox.style.boxShadow = '0px 0px 20px rgba(0,0,0,0.4)';\n",
    "        messageBox.style.zIndex = '1000';\n",
    "        messageBox.style.maxWidth = '300px';  \n",
    "        messageBox.style.textAlign = 'center';\n",
    "        document.body.appendChild(messageBox);\n",
    "        setTimeout(() => messageBox.remove(), 50000);  \n",
    "        \"\"\"\n",
    "        self.driver.execute_script(script)\n",
    "\n",
    "    def close_browser(self):\n",
    "        self.driver.quit()\n",
    "\n",
    "if __name__ == \"__main__\":\n",
    "    clicker = ButtonClicker(\"https://www.ecu.edu/\") \n",
    "    clicker.open_page()\n",
    "    clicker.click_button(\"top\")  \n",
    "    clicker.close_browser()\n"
   ]
  },
  {
   "cell_type": "markdown",
   "id": "80cb49c9-771a-450b-92d6-69742f48f972",
   "metadata": {},
   "source": [
    "# 6. Test Cases for Boolean Expression\n",
    "(All(B && C)) && D\n"
   ]
  },
  {
   "cell_type": "code",
   "execution_count": null,
   "id": "e261995e-058c-45e2-93cf-92eb017fb393",
   "metadata": {},
   "outputs": [],
   "source": [
    "Test Cases:\n",
    "B\tC\tD\tExpression Result\n",
    "T\tT\tT\tT\n",
    "T\tT\tF\tF\n",
    "T\tF\tT\tF\n",
    "F\tT\tT\tF\n",
    "F\tF\tT\tF\n",
    "T\tF\tF\tF\n",
    "F\tT\tF\tF\n",
    "F\tF\tF\tF"
   ]
  },
  {
   "cell_type": "code",
   "execution_count": null,
   "id": "63234316-fd6c-48e1-bcff-fd7a192b7afb",
   "metadata": {},
   "outputs": [],
   "source": [
    "def branch_condition_coverage(A, B, C, D):\n",
    "    if (A and B) or (C and not D):\n",
    "        print(\"Condition is True: Perform some action\")\n",
    "    else:\n",
    "        print(\"Condition is False: Do nothing\")\n"
   ]
  },
  {
   "cell_type": "markdown",
   "id": "c1b24ccd-a6f2-45b3-9253-b64dbd1bf2ad",
   "metadata": {},
   "source": [
    "# Test Cases for Branch Coverage and Condition Coverage:\n",
    "Test Case 1:\n",
    "\n",
    "Input: A = true, B = true, C = false, D = true\n",
    "Expected Output: \"Condition is True: Perform some action\"\n",
    "Explanation: This covers the (A && B) branch where the condition is true.\n",
    "Test Case 2:\n",
    "\n",
    "Input: A = false, B = true, C = true, D = false\n",
    "Expected Output: \"Condition is True: Perform some action\"\n",
    "Explanation: This covers the (C && !D) branch where the condition is true.\n",
    "Test Case 3:\n",
    "\n",
    "Input: A = false, B = false, C = false, D = true\n",
    "Expected Output: \"Condition is False: Do nothing\"\n",
    "Explanation: Both (A && B) and (C && !D) are false, leading to the else branch.\n",
    "Test Case 4:\n",
    "\n",
    "Input: A = false, B = false, C = true, D = true\n",
    "Expected Output: \"Condition is False: Do nothing\"\n",
    "Explanation: The C && !D part is false because D is true, so both conditions are false.\n"
   ]
  },
  {
   "cell_type": "markdown",
   "id": "4b72b1b9-599e-4c20-827b-5cb436eb81ab",
   "metadata": {},
   "source": [
    "# 8. Pesticide Paradox in Software Testing"
   ]
  },
  {
   "cell_type": "markdown",
   "id": "e07a793c-7eb7-455e-906e-3f91915a69ca",
   "metadata": {},
   "source": [
    "refers to the idea that repeatedly running the same set of test cases eventually becomes less effective in finding new defects. It is crucial to review and update test cases because as the software evolves, new features or changes in code may introduce new defects that the existing tests might not cover."
   ]
  },
  {
   "cell_type": "markdown",
   "id": "051b61cd-c94d-4458-9b75-78b65a50a700",
   "metadata": {},
   "source": [
    "# 9. Defect Clustering in Software Testing"
   ]
  },
  {
   "cell_type": "markdown",
   "id": "13846223-13cd-4285-ad5a-35bcff2b0c54",
   "metadata": {},
   "source": [
    "Defect Clustering refers to the phenomenon where a small number of modules in a software system tend to contain the majority of the defects. which aligns with the Pareto Principle where roughly 80% of the problems come from the modules. one of the important is By recognizing defect clustering, testers can prioritize testing efforts on these defect-prone areas. This helps in focusing resources where they are most needed, ensuring higher quality in critical components of the system. for exaple a banking application where the loan processing module has historically shown more bugs than other parts of the system."
   ]
  },
  {
   "cell_type": "markdown",
   "id": "e06e326b-963c-4ee4-bad9-1156736e08fd",
   "metadata": {},
   "source": [
    "# 10"
   ]
  },
  {
   "cell_type": "markdown",
   "id": "8aa7f74e-5bb1-4960-8094-586403fa61c6",
   "metadata": {},
   "source": [
    "\n",
    "Pseudocode for isEven Function:\n",
    "plaintext\n",
    "Copy code\n",
    "FUNCTION isEven(num):\n",
    "    IF num MOD 2 = 0\n",
    "        RETURN TRUE\n",
    "    ELSE\n",
    "        RETURN FALSE\n",
    "    ENDIF\n",
    "END FUNCTION"
   ]
  },
  {
   "cell_type": "markdown",
   "id": "58d8baad-1678-425e-ad7d-82e761e4e5dd",
   "metadata": {},
   "source": [
    "A mutant could be created by changing the condition num MOD 2 = 0 to num MOD 2 = 1.\n",
    "b. Provide a Test Case to Kill the Mutant:\n",
    "Input: num = 4 (even number)\n",
    "Expected Output: TRUE (since 4 is even)"
   ]
  },
  {
   "cell_type": "code",
   "execution_count": null,
   "id": "7f8e6d9c-542a-42d4-9ce4-70f35b05ac8c",
   "metadata": {},
   "outputs": [],
   "source": []
  }
 ],
 "metadata": {
  "kernelspec": {
   "display_name": "Python 3 (ipykernel)",
   "language": "python",
   "name": "python3"
  },
  "language_info": {
   "codemirror_mode": {
    "name": "ipython",
    "version": 3
   },
   "file_extension": ".py",
   "mimetype": "text/x-python",
   "name": "python",
   "nbconvert_exporter": "python",
   "pygments_lexer": "ipython3",
   "version": "3.12.3"
  }
 },
 "nbformat": 4,
 "nbformat_minor": 5
}
