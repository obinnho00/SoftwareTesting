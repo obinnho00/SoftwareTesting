{
 "cells": [
  {
   "cell_type": "code",
   "execution_count": 10,
   "id": "966e23c4-457a-4daa-a713-6f18f439a01a",
   "metadata": {},
   "outputs": [],
   "source": [
    "from selenium import webdriver\n",
    "from selenium.webdriver.common.keys import Keys\n",
    "from selenium.webdriver.common.by import By"
   ]
  },
  {
   "cell_type": "code",
   "execution_count": 16,
   "id": "7ad87858-00ae-4ab9-983e-a3efbf9d9ee8",
   "metadata": {},
   "outputs": [
    {
     "name": "stdout",
     "output_type": "stream",
     "text": [
      "Title contains 'Python test' as expected.\n"
     ]
    }
   ],
   "source": [
    "from selenium import webdriver\n",
    "from selenium.webdriver.common.by import By\n",
    "\n",
    "class SeleniumTesting:\n",
    "    \n",
    "    def __init__(self, url):\n",
    "        self.url = url  # Set the URL passed during initialization\n",
    "\n",
    "    # This is a helper function to load the webpage \n",
    "    def load_url(self):\n",
    "        # Initialize the Chrome WebDriver\n",
    "        self.web = webdriver.Chrome()  # Ensure chromedriver is in PATH\n",
    "        self.web.get(self.url)\n",
    "        return self.web  # Return the web driver instance\n",
    "    \n",
    "    # This function checks the title of the loaded webpage\n",
    "    def insert_title(self):\n",
    "        # Load the URL\n",
    "        self.load_url()\n",
    "        \n",
    "        # Check if the title contains the expected text\n",
    "        if \"Cisco Careers\" in self.web.title:\n",
    "            print(\"Title contains 'Python test' as expected.\")\n",
    "        elif \"this is a testpage title\" in self.web.title:\n",
    "            print(\"Title contains 'this is a testpage title' as expected.\")\n",
    "        else:\n",
    "            raise ValueError(\"Title check failed. The title does not match expected values.\")\n",
    "    \n",
    "    # function to close the  window afdter 20 sec \n",
    "    def Close_window(self):\n",
    "        di\n",
    "    \n",
    "    def main(self):\n",
    "        # Execute the main testing logic\n",
    "        self.insert_title()  # Calls `insert_title` to verify the page title\n",
    "\n",
    "if __name__ == \"__main__\":\n",
    "    # Instantiate the class with a URL\n",
    "    test = SeleniumTesting(\"https://www.cisco.com/c/en/us/about/careers.html\")\n",
    "    test.main()\n"
   ]
  },
  {
   "cell_type": "code",
   "execution_count": null,
   "id": "99df6a2a-0b00-461b-8104-8940656a9131",
   "metadata": {},
   "outputs": [],
   "source": []
  }
 ],
 "metadata": {
  "kernelspec": {
   "display_name": "Python 3 (ipykernel)",
   "language": "python",
   "name": "python3"
  },
  "language_info": {
   "codemirror_mode": {
    "name": "ipython",
    "version": 3
   },
   "file_extension": ".py",
   "mimetype": "text/x-python",
   "name": "python",
   "nbconvert_exporter": "python",
   "pygments_lexer": "ipython3",
   "version": "3.12.3"
  }
 },
 "nbformat": 4,
 "nbformat_minor": 5
}
