{
 "cells": [
  {
   "cell_type": "markdown",
   "id": "7256b9cd-0477-42ae-97c9-b386b635f102",
   "metadata": {},
   "source": [
    "# Quize \n",
    "# Test Case Scenario:\n",
    "You need to write a test for a BankAccount class that handles basic banking operations like deposits, withdrawals, and checking the balance. The class should have the following methods:\n",
    "\n",
    "deposit(amount): Adds money to the account.\n",
    "withdraw(amount): Deducts money from the account, but it should raise an exception if the amount to withdraw exceeds the current balance.\n",
    "get_balance(): Returns the current balance of the account."
   ]
  },
  {
   "cell_type": "markdown",
   "id": "2b2a3aac-cd9f-434d-91b1-0c3296a1ca63",
   "metadata": {},
   "source": [
    "# Your Task:\n",
    "Initialize the BankAccount: In your setUp() method, create a BankAccount instance with an initial balance (e.g., $1000).\n",
    "\n",
    "Test Deposit: Write a test method that deposits a certain amount (e.g., $200) and then checks if the balance is updated correctly.\n",
    "\n",
    "Test Withdraw: Write a test method that withdraws a certain amount (e.g., $500) and checks if the balance is updated correctly.\n",
    "\n",
    "Test Withdraw with Insufficient Funds: Write a test method that attempts to withdraw more than the current balance (e.g., $2000) and checks if the appropriate exception is raised.\n",
    "\n",
    "Clean Up: If necessary, reset the account or perform any necessary cleanup in the tearDown() method."
   ]
  },
  {
   "cell_type": "code",
   "execution_count": 1,
   "id": "63fd74ec-c972-492c-8436-ff5571ac4313",
   "metadata": {},
   "outputs": [
    {
     "name": "stderr",
     "output_type": "stream",
     "text": [
      "test_deposit (__main__.TestBankAccount.test_deposit) ... ok\n",
      "test_withdraw (__main__.TestBankAccount.test_withdraw) ... ok\n",
      "test_withdraw_insufficient_funds (__main__.TestBankAccount.test_withdraw_insufficient_funds) ... ok\n",
      "\n",
      "----------------------------------------------------------------------\n",
      "Ran 3 tests in 0.003s\n",
      "\n",
      "OK\n"
     ]
    }
   ],
   "source": [
    "import unittest\n",
    "\n",
    "class BankAccount:\n",
    "    def __init__(self, initial_balance=1000):\n",
    "        self.balance = initial_balance\n",
    "    \n",
    "    def deposit(self, amount):\n",
    "        self.balance += amount\n",
    "    \n",
    "    def withdraw(self, amount):\n",
    "        if amount > self.balance:\n",
    "            raise ValueError(\"Insufficient funds\")\n",
    "        self.balance -= amount\n",
    "    \n",
    "    def get_balance(self):\n",
    "        return self.balance\n",
    "    \n",
    "    def reset(self):\n",
    "        self.balance = 1000\n",
    "\n",
    "class TestBankAccount(unittest.TestCase):\n",
    "    \n",
    "    def setUp(self):\n",
    "        # Initialize the BankAccount instance with a balance of $1000\n",
    "        self.bank_account = BankAccount()\n",
    "    \n",
    "    def tearDown(self):\n",
    "        # Reset the bank account to $1000 after each test\n",
    "        self.bank_account.reset()\n",
    "\n",
    "    # Test Deposit: Write a test method that deposits a certain amount (e.g., $200) and then checks if the balance is updated correctly.\n",
    "    def test_deposit(self):\n",
    "        self.bank_account.deposit(200)\n",
    "        self.assertEqual(self.bank_account.get_balance(), 1200)\n",
    "\n",
    "    # Test Withdraw: Write a test method that withdraws a certain amount (e.g., $500) and checks if the balance is updated correctly. \n",
    "    def test_withdraw(self):\n",
    "        self.bank_account.withdraw(500)\n",
    "        self.assertEqual(self.bank_account.get_balance(), 500)\n",
    "\n",
    "    # Test Withdraw with Insufficient Funds: Write a test method that attempts to withdraw more than the current balance (e.g., $2000) and checks if the appropriate exception is raised.\n",
    "    def test_withdraw_insufficient_funds(self):\n",
    "        with self.assertRaises(ValueError):\n",
    "            self.bank_account.withdraw(2000)\n",
    "\n",
    "if __name__ == '__main__':\n",
    "    unittest.main(argv=[''], verbosity=2, exit=False)\n"
   ]
  },
  {
   "cell_type": "code",
   "execution_count": null,
   "id": "d882a39a-b4cb-47ce-b0bb-94eee4549e1c",
   "metadata": {},
   "outputs": [],
   "source": []
  }
 ],
 "metadata": {
  "kernelspec": {
   "display_name": "Python 3 (ipykernel)",
   "language": "python",
   "name": "python3"
  },
  "language_info": {
   "codemirror_mode": {
    "name": "ipython",
    "version": 3
   },
   "file_extension": ".py",
   "mimetype": "text/x-python",
   "name": "python",
   "nbconvert_exporter": "python",
   "pygments_lexer": "ipython3",
   "version": "3.12.3"
  }
 },
 "nbformat": 4,
 "nbformat_minor": 5
}
