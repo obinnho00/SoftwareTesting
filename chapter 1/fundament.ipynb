{
 "cells": [
  {
   "cell_type": "markdown",
   "id": "eb33f793-3e7f-4270-99bf-b9ea573c36ee",
   "metadata": {},
   "source": [
    "# fundamentals of testing ptocess"
   ]
  },
  {
   "cell_type": "markdown",
   "id": "06e242a5-e455-4e06-a48c-f3174a658656",
   "metadata": {},
   "source": [
    "Test process fundamentals:\n",
    "1) Test plaining and control\n",
    "    - when testing the process starts at the beginning of the project\n",
    "    - the missing of objective of the testig must be define \n",
    "    - resourcess necessary for the testing process must be provided \n",
    "    - which employees are needed for thw execution of which task.\n",
    "                                    - the main task of playing is to detrmin the test strategy or approach.\n",
    "                            \n"
   ]
  },
  {
   "cell_type": "markdown",
   "id": "a45eb96d-48e1-4c08-9c5b-04ecd7ec9027",
   "metadata": {},
   "source": [
    "# Test Planing and control "
   ]
  },
  {
   "cell_type": "markdown",
   "id": "845dd9e3-bef3-4f17-8445-badac4a2bf80",
   "metadata": {},
   "source": [
    "-test control is the monitoring oof the test activites.\n",
    "- it includes reporting the status of deivations from the plan and taking any action \n",
    "-\n",
    "# Test strategies \n",
    "Test objective \n",
    "    it define the specific goals and outcome you want to accomplish during the testing \n",
    "    phase of the project\n",
    "# Example\n",
    " - verify that the login functionality works correctly for both registerations and new\n",
    "    user \n",
    "# scoppe \n",
    "- Define the scope of testing and outlining what will be testied and what will not \n",
    "    not be tested \n",
    "# Testing type \n",
    "    - choose what testing should be done\n",
    "    - functional testing or non functional testing.\n",
    "\n",
    "# testing environment \n",
    "    - outline the hardware, software and infrastuctre required for testing\n",
    "    # example: "
   ]
  },
  {
   "cell_type": "code",
   "execution_count": 1,
   "id": "c9abfc71-bab4-48db-b8dd-3eb7c72bed40",
   "metadata": {},
   "outputs": [
    {
     "name": "stderr",
     "output_type": "stream",
     "text": [
      "test_lower (__main__.TestStringMethods.test_lower) ... ok\n",
      "test_result (__main__.TestStringMethods.test_result) ... ok\n",
      "test_upper (__main__.TestStringMethods.test_upper) ... ok\n",
      "\n",
      "----------------------------------------------------------------------\n",
      "Ran 3 tests in 0.034s\n",
      "\n",
      "OK\n"
     ]
    }
   ],
   "source": [
    "import unittest\n",
    "\n",
    "class TestStringMethods(unittest.TestCase):\n",
    "    \n",
    "    # Function to test uppercase conversion\n",
    "    def test_upper(self):\n",
    "        self.assertEqual('food'.upper(), \"FOOD\")\n",
    "        \n",
    "    # Function to test lowercase conversion\n",
    "    def test_lower(self):\n",
    "        self.assertEqual('FOOD'.lower(), 'food')\n",
    "\n",
    "    # Function to test string case conditions\n",
    "    def test_result(self):\n",
    "        self.assertTrue('FOOD'.isupper())\n",
    "        self.assertFalse('food'.isupper())\n",
    "        self.assertTrue('food'.islower())\n",
    "        self.assertFalse('FOOD'.islower())\n",
    "\n",
    "if __name__ == '__main__':\n",
    "    unittest.main(argv=[''], verbosity=2, exit=False)\n",
    "    \n",
    "# argv=['']: This prevents unittest from trying to interpret the arguments that Jupyter passes to the script.\n",
    "# exit=False: This prevents unittest from shutting down the kernel process, which is important in Jupyter."
   ]
  },
  {
   "cell_type": "markdown",
   "id": "16c0e1d8-c37a-4948-9d81-6c907a2f670d",
   "metadata": {},
   "source": [
    " # Pyhon Unittest \n",
    "- a testcase is created by subclassing unittest.Teatcase \n",
    "_ and to define  a method to test it most start with the correct naming\n",
    "convention whict must start with test exapme test_and the name of your function\n",
    "\n",
    "- the crux of each test is assertEqual() which is used to check to an  expected\n",
    "    result\n",
    "- the assertionTrue() and assertionFalse is used to to verify the result \n",
    "- the assertRaises() is used to produce a rport \n",
    "\n",
    "- setUp() and tearDown() methods allows you to define instructions that will be \n",
    "- excuted befor and after each test case \n"
   ]
  },
  {
   "cell_type": "markdown",
   "id": "40b49d32-2ee8-48c5-bcbf-923133be9c59",
   "metadata": {},
   "source": [
    "# Organizing a testCase "
   ]
  },
  {
   "cell_type": "markdown",
   "id": "e21d98dd-2cfd-4af7-b1cb-ffae3d94094e",
   "metadata": {},
   "source": [
    "# setup() \n",
    "- Purpose: The setUp() method is run before each test method. It's used to set up any state or objects that are required for the tests. This could include creating objects, opening database connections, or setting up test data.\n",
    "# Example \n",
    "Use Case: If you're testing a class that requires an instance to be created, you might create that instance in setUp() so that each test can use it."
   ]
  },
  {
   "cell_type": "markdown",
   "id": "3386c281-98e8-4aa4-8f4d-224b86009529",
   "metadata": {},
   "source": [
    "# correction code "
   ]
  },
  {
   "cell_type": "markdown",
   "id": "3b274341-858a-4b46-8301-6442b677033a",
   "metadata": {},
   "source": [
    "# tearDown() Method\n",
    "\n",
    "    Purpose: The tearDown() method is run after each test method, and it's used to clean up the environment. This ensures that each test is isolated and that changes made by one test don’t affect the others. You might close files, delete objects, or clean up test data in tearDown().\n",
    "# Example\n",
    "Use Case: If setUp() opens a database connection, tearDown() would close that connection after the test is complete."
   ]
  },
  {
   "cell_type": "markdown",
   "id": "f974328b-4d64-434b-bb3b-5be43fc2a24b",
   "metadata": {},
   "source": [
    "# understanding termilogy\n",
    "- Unittest.Main():\n",
    "  This function is entry point for running the entire test case it when its called it will look\n",
    "  for all the testcase that that inherit from the unittest.testcase in the module which will create a test case from it and then run it.\n",
    "\n",
    "- argv[\"\"], this is allow you to pass command line argument to unittest.main() this helps to overide the command line and mostly in jupyter notebook, it helps prevent unittest from reading the command line as an input. by overiding the defualt sys.argv with the empty string\n",
    "\n",
    "- verbosity:\n",
    "  Purpose: This controls the verbosity level of the test output. The verbosity argument specifies how detailed the output of the test results should be.\n",
    "verbosity=0: Quiet mode; only the test results summary is printed.\n",
    "verbosity=1: Default mode; prints a dot for each successful test and a letter for each type of failure.\n",
    "verbosity=2: Verbose mode; prints the name of each test method along with the result.\n",
    "\n",
    "- exit=False:\n",
    "    Purpose: By default, unittest.main() will call sys.exit() after running the tests. This is usually fine when running tests from a script, but in environments like Jupyter notebooks or interactive Python sessions, calling sys.exit() would terminate the session. By setting exit=False, you prevent unittest from calling sys.exit(), allowing the environment to continue running after the tests complete.\n",
    "  "
   ]
  },
  {
   "cell_type": "code",
   "execution_count": null,
   "id": "187c5efd-6821-4592-a490-ef8bbb91c3a0",
   "metadata": {},
   "outputs": [],
   "source": []
  },
  {
   "cell_type": "code",
   "execution_count": null,
   "id": "f6dd6adf-c3bf-410f-bfbd-ff11b1cccb32",
   "metadata": {},
   "outputs": [],
   "source": []
  },
  {
   "cell_type": "code",
   "execution_count": null,
   "id": "50060a9e-7c90-4c93-83cc-4e37fdd4200a",
   "metadata": {},
   "outputs": [],
   "source": []
  }
 ],
 "metadata": {
  "kernelspec": {
   "display_name": "Python 3 (ipykernel)",
   "language": "python",
   "name": "python3"
  },
  "language_info": {
   "codemirror_mode": {
    "name": "ipython",
    "version": 3
   },
   "file_extension": ".py",
   "mimetype": "text/x-python",
   "name": "python",
   "nbconvert_exporter": "python",
   "pygments_lexer": "ipython3",
   "version": "3.12.3"
  }
 },
 "nbformat": 4,
 "nbformat_minor": 5
}
