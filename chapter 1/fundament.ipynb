{
 "cells": [
  {
   "cell_type": "markdown",
   "id": "eb33f793-3e7f-4270-99bf-b9ea573c36ee",
   "metadata": {},
   "source": [
    "# fundamentals of testing ptocess"
   ]
  },
  {
   "cell_type": "markdown",
   "id": "06e242a5-e455-4e06-a48c-f3174a658656",
   "metadata": {},
   "source": [
    "Test process fundamentals:\n",
    "1) Test plaining and control\n",
    "    - when testing the process starts at the beginning of the project\n",
    "    - the missing of objective of the testig must be define \n",
    "    - resourcess necessary for the testing process must be provided \n",
    "    - which employees are needed for thw execution of which task.\n",
    "                                    - the main task of playing is to detrmin the test strategy or approach.\n",
    "                            \n"
   ]
  },
  {
   "cell_type": "markdown",
   "id": "a45eb96d-48e1-4c08-9c5b-04ecd7ec9027",
   "metadata": {},
   "source": [
    "# Test Planing and control "
   ]
  },
  {
   "cell_type": "markdown",
   "id": "845dd9e3-bef3-4f17-8445-badac4a2bf80",
   "metadata": {},
   "source": [
    "-test control is the monitoring oof the test activites.\n",
    "- it includes reporting the status of deivations from the plan and taking any action \n",
    "-\n",
    "# Test strategies \n",
    "Test objective \n",
    "    it define the specific goals and outcome you want to accomplish during the testing \n",
    "    phase of the project\n",
    "# Example\n",
    " - verify that the login functionality works correctly for both registerations and new\n",
    "    user \n",
    "# scoppe \n",
    "- Define the scope of testing and outlining what will be testied and what will not \n",
    "    not be tested \n",
    "# Testing type \n",
    "    - choose what testing should be done\n",
    "    - functional testing or non functional testing.\n",
    "\n",
    "# testing environment \n",
    "    - outline the hardware, software and infrastuctre required for testing\n",
    "    # example: "
   ]
  },
  {
   "cell_type": "code",
   "execution_count": 15,
   "id": "c9abfc71-bab4-48db-b8dd-3eb7c72bed40",
   "metadata": {},
   "outputs": [
    {
     "name": "stderr",
     "output_type": "stream",
     "text": [
      "test_lower (__main__.TestStringMethods.test_lower) ... ok\n",
      "test_result (__main__.TestStringMethods.test_result) ... ok\n",
      "test_upper (__main__.TestStringMethods.test_upper) ... ok\n",
      "\n",
      "----------------------------------------------------------------------\n",
      "Ran 3 tests in 0.004s\n",
      "\n",
      "OK\n"
     ]
    }
   ],
   "source": [
    "import unittest\n",
    "\n",
    "class TestStringMethods(unittest.TestCase):\n",
    "    \n",
    "    # Function to test uppercase conversion\n",
    "    def test_upper(self):\n",
    "        self.assertEqual('food'.upper(), \"FOOD\")\n",
    "        \n",
    "    # Function to test lowercase conversion\n",
    "    def test_lower(self):\n",
    "        self.assertEqual('FOOD'.lower(), 'food')\n",
    "\n",
    "    # Function to test string case conditions\n",
    "    def test_result(self):\n",
    "        self.assertTrue('FOOD'.isupper())\n",
    "        self.assertFalse('food'.isupper())\n",
    "        self.assertTrue('food'.islower())\n",
    "        self.assertFalse('FOOD'.islower())\n",
    "\n",
    "if __name__ == '__main__':\n",
    "    unittest.main(argv=[''], verbosity=2, exit=False)\n",
    "    \n",
    "# argv=['']: This prevents unittest from trying to interpret the arguments that Jupyter passes to the script.\n",
    "# exit=False: This prevents unittest from shutting down the kernel process, which is important in Jupyter."
   ]
  },
  {
   "cell_type": "markdown",
   "id": "16c0e1d8-c37a-4948-9d81-6c907a2f670d",
   "metadata": {},
   "source": [
    " # Pyhon Unittest \n",
    "- a testcase is created by subclassing unittest.Teatcase \n",
    "_ and to define  a method to test it most start with the correct naming\n",
    "convention whict must start with test exapme test_and the name of your function\n",
    "\n",
    "- the crux of each test is assertEqual() which is used to check to an  expected\n",
    "    result\n",
    "- the assertionTrue() and assertionFalse is used to to verify the result \n",
    "- the assertRaises() is used to produce a rport \n",
    "\n",
    "- setUp() and tearDown() methods allows you to define instructions that will be \n",
    "- excuted befor and after each test case \n"
   ]
  },
  {
   "cell_type": "markdown",
   "id": "40b49d32-2ee8-48c5-bcbf-923133be9c59",
   "metadata": {},
   "source": [
    "# Organizing a testCase "
   ]
  },
  {
   "cell_type": "markdown",
   "id": "e21d98dd-2cfd-4af7-b1cb-ffae3d94094e",
   "metadata": {},
   "source": [
    "# setup() \n",
    "- Purpose: The setUp() method is run before each test method. It's used to set up any state or objects that are required for the tests. This could include creating objects, opening database connections, or setting up test data.\n",
    "# Example \n",
    "Use Case: If you're testing a class that requires an instance to be created, you might create that instance in setUp() so that each test can use it."
   ]
  },
  {
   "cell_type": "markdown",
   "id": "0f147866-2603-4fa0-984d-a25c4bc6b4d1",
   "metadata": {},
   "source": [
    "# Quize \n",
    "# Test Case Scenario:\n",
    "You need to write a test for a BankAccount class that handles basic banking operations like deposits, withdrawals, and checking the balance. The class should have the following methods:\n",
    "\n",
    "deposit(amount): Adds money to the account.\n",
    "withdraw(amount): Deducts money from the account, but it should raise an exception if the amount to withdraw exceeds the current balance.\n",
    "get_balance(): Returns the current balance of the account."
   ]
  },
  {
   "cell_type": "markdown",
   "id": "f92a11b5-f0a0-4546-a6bc-4bb66a71acc1",
   "metadata": {},
   "source": [
    "# Your Task:\n",
    "Initialize the BankAccount: In your setUp() method, create a BankAccount instance with an initial balance (e.g., $1000).\n",
    "\n",
    "Test Deposit: Write a test method that deposits a certain amount (e.g., $200) and then checks if the balance is updated correctly.\n",
    "\n",
    "Test Withdraw: Write a test method that withdraws a certain amount (e.g., $500) and checks if the balance is updated correctly.\n",
    "\n",
    "Test Withdraw with Insufficient Funds: Write a test method that attempts to withdraw more than the current balance (e.g., $2000) and checks if the appropriate exception is raised.\n",
    "\n",
    "Clean Up: If necessary, reset the account or perform any necessary cleanup in the tearDown() method."
   ]
  },
  {
   "cell_type": "code",
   "execution_count": 34,
   "id": "688ff755-e5c6-47b3-9820-fd05120f807c",
   "metadata": {},
   "outputs": [
    {
     "name": "stderr",
     "output_type": "stream",
     "text": [
      "test_Deposit (__main__.BankAccount.test_Deposit) ... ok\n",
      "test_withdrawals (__main__.BankAccount.test_withdrawals) ... ok\n",
      "\n",
      "----------------------------------------------------------------------\n",
      "Ran 2 tests in 0.003s\n",
      "\n",
      "OK\n"
     ]
    }
   ],
   "source": [
    "import unittest\n",
    "\n",
    "class BankAccount(unittest.TestCase):\n",
    "    # Initialize the BankAccount: In your setUp() method, create a BankAccount instance with an initial balance (e.g., $1000).\n",
    "    def setUp(self): # initialize the setup method \n",
    "        self.bankaccount = 1000 # initialize bank account to $ 1000 dollars\n",
    "\n",
    "    # this method here will alwas reset the bank account to 1000 by  defalutb\n",
    "    # Clean Up: If necessary, reset the account or perform any necessary cleanup in the tearDown() method.\n",
    "    def tearDown(self):\n",
    "        if self.bankaccount > 1000:\n",
    "            self.bankaccount = 1000\n",
    "        else:\n",
    "            if self.bankaccount <= 0:\n",
    "                self.bankaccount = 1000\n",
    "\n",
    "    # Test Deposit: Write a test method that deposits a certain amount (e.g., $200) and then checks if the balance is updated correctly.\n",
    "    def test_Deposit(self):\n",
    "        if self.bankaccount:\n",
    "            current =  self.bankaccount + 200\n",
    "        self.assertEqual(current,1200)\n",
    "\n",
    "    # Test Withdraw: Write a test method that withdraws a certain amount (e.g., $500) and checks if the balance is updated correctly. \n",
    "    def test_withdrawals(self):\n",
    "        if self.bankaccount:\n",
    "            balance = self.bankaccount - 500\n",
    "        self.assertEqual(balance,500) \n",
    "        # Test Withdraw with Insufficient Funds: Write a test method that attempts to withdraw more than the current balance (e.g., $2000) and checks if the appropriate exception is raised.\n",
    "        withdraw = -2000\n",
    "        if self.bankaccount < withdraw:\n",
    "            with self.assertRaises(TypeError):\n",
    "                self.assertEqual((-2000,0),\"bank account is insuficiant\")\n",
    "        else:\n",
    "            return \n",
    "                \n",
    "\n",
    "  \n",
    "                             \n",
    "        \n",
    "if __name__ == '__main__':\n",
    "    unittest.main(argv=[''], verbosity=2, exit=False)\n",
    "    \n",
    "        \n",
    "        \n",
    "        "
   ]
  },
  {
   "cell_type": "markdown",
   "id": "f3e96d31-c4af-4c7c-af29-11ec467a4423",
   "metadata": {},
   "source": [
    "# Grade \n",
    "- 70/100 C"
   ]
  },
  {
   "cell_type": "markdown",
   "id": "3386c281-98e8-4aa4-8f4d-224b86009529",
   "metadata": {},
   "source": [
    "# correction code "
   ]
  },
  {
   "cell_type": "code",
   "execution_count": 40,
   "id": "bc250862-72b9-4129-9484-8b77222b7cf2",
   "metadata": {},
   "outputs": [
    {
     "name": "stderr",
     "output_type": "stream",
     "text": [
      "test_deposit (__main__.TestBankAccount.test_deposit) ... ok\n",
      "test_withdraw (__main__.TestBankAccount.test_withdraw) ... ok\n",
      "test_withdraw_insufficient_funds (__main__.TestBankAccount.test_withdraw_insufficient_funds) ... ok\n",
      "\n",
      "----------------------------------------------------------------------\n",
      "Ran 3 tests in 0.005s\n",
      "\n",
      "OK\n"
     ]
    }
   ],
   "source": [
    "import unittest\n",
    "\n",
    "class BankAccount:\n",
    "    def __init__(self, initial_balance=1000):\n",
    "        self.balance = initial_balance\n",
    "    \n",
    "    def deposit(self, amount):\n",
    "        self.balance += amount\n",
    "    \n",
    "    def withdraw(self, amount):\n",
    "        if amount > self.balance:\n",
    "            raise ValueError(\"Insufficient funds\")\n",
    "        self.balance -= amount\n",
    "    \n",
    "    def get_balance(self):\n",
    "        return self.balance\n",
    "    \n",
    "    def reset(self):\n",
    "        self.balance = 1000\n",
    "\n",
    "class TestBankAccount(unittest.TestCase):\n",
    "    \n",
    "    def setUp(self):\n",
    "        # Initialize the BankAccount instance with a balance of $1000\n",
    "        self.bank_account = BankAccount()\n",
    "    \n",
    "    def tearDown(self):\n",
    "        # Reset the bank account to $1000 after each test\n",
    "        self.bank_account.reset()\n",
    "\n",
    "    # Test Deposit: Write a test method that deposits a certain amount (e.g., $200) and then checks if the balance is updated correctly.\n",
    "    def test_deposit(self):\n",
    "        self.bank_account.deposit(200)\n",
    "        self.assertEqual(self.bank_account.get_balance(), 1200)\n",
    "\n",
    "    # Test Withdraw: Write a test method that withdraws a certain amount (e.g., $500) and checks if the balance is updated correctly. \n",
    "    def test_withdraw(self):\n",
    "        self.bank_account.withdraw(500)\n",
    "        self.assertEqual(self.bank_account.get_balance(), 500)\n",
    "\n",
    "    # Test Withdraw with Insufficient Funds: Write a test method that attempts to withdraw more than the current balance (e.g., $2000) and checks if the appropriate exception is raised.\n",
    "    def test_withdraw_insufficient_funds(self):\n",
    "        with self.assertRaises(ValueError):\n",
    "            self.bank_account.withdraw(2000)\n",
    "\n",
    "if __name__ == '__main__':\n",
    "    unittest.main(argv=[''], verbosity=2, exit=False)\n"
   ]
  },
  {
   "cell_type": "markdown",
   "id": "3b274341-858a-4b46-8301-6442b677033a",
   "metadata": {},
   "source": [
    "# tearDown() Method\n",
    "\n",
    "    Purpose: The tearDown() method is run after each test method, and it's used to clean up the environment. This ensures that each test is isolated and that changes made by one test don’t affect the others. You might close files, delete objects, or clean up test data in tearDown().\n",
    "# Example\n",
    "Use Case: If setUp() opens a database connection, tearDown() would close that connection after the test is complete."
   ]
  },
  {
   "cell_type": "markdown",
   "id": "f974328b-4d64-434b-bb3b-5be43fc2a24b",
   "metadata": {},
   "source": [
    "# understanding termilogy\n",
    "- Unittest.Main():\n",
    "  This function is entry point for running the entire test case it when its called it will look\n",
    "  for all the testcase that that inherit from the unittest.testcase in the module which will create a test case from it and then run it.\n",
    "\n",
    "- argv[\"\"], this is allow you to pass command line argument to unittest.main() this helps to overide the command line and mostly in jupyter notebook, it helps prevent unittest from reading the command line as an input. by overiding the defualt sys.argv with the empty string\n",
    "\n",
    "- verbosity:\n",
    "  Purpose: This controls the verbosity level of the test output. The verbosity argument specifies how detailed the output of the test results should be.\n",
    "verbosity=0: Quiet mode; only the test results summary is printed.\n",
    "verbosity=1: Default mode; prints a dot for each successful test and a letter for each type of failure.\n",
    "verbosity=2: Verbose mode; prints the name of each test method along with the result.\n",
    "\n",
    "- exit=False:\n",
    "    Purpose: By default, unittest.main() will call sys.exit() after running the tests. This is usually fine when running tests from a script, but in environments like Jupyter notebooks or interactive Python sessions, calling sys.exit() would terminate the session. By setting exit=False, you prevent unittest from calling sys.exit(), allowing the environment to continue running after the tests complete.\n",
    "  "
   ]
  },
  {
   "cell_type": "markdown",
   "id": "aacac512-4d14-454c-96f8-47043555cf3d",
   "metadata": {},
   "source": [
    "# Test 2\n",
    "- Testing a ShoppingCart"
   ]
  },
  {
   "cell_type": "markdown",
   "id": "08e7ab51-3fb3-418c-ab39-6915a31a0265",
   "metadata": {},
   "source": [
    "Scenario: \n",
    "\n",
    "Testing a ShoppingCart Class\n",
    "You need to write test cases for a ShoppingCart class. The ShoppingCart class manages a collection of items, allowing you to add, remove, and calculate the total cost of the items in the cart. Here’s a description of the class methods:\n",
    "\n",
    "add_item(item_name, price, quantity):\n",
    "\n",
    "Adds an item to the cart. If the item already exists, it updates the quantity.\n",
    "remove_item(item_name): Removes an item from the cart.\n",
    "get_total(): Returns the total cost of all the items in the cart.\n",
    "get_item_count(): Returns the total number of items in the cart.\n",
    "Your Task:\n",
    "Set Up the ShoppingCart: In your setUp() method, create a ShoppingCart instance.\n",
    "\n",
    "Test Adding Items: \n",
    "\n",
    "Write a test method to add an item to the cart and verify that the item count and total cost are updated correctly.\n",
    "\n",
    "Test Removing Items: \n",
    "\n",
    "Write a test method to remove an item from the cart and verify that the item count and total cost are updated correctly.\n",
    "\n",
    "Test Removing Non-Existent Item:\n",
    "\n",
    "Write a test method that attempts to remove an item that doesn’t exist in the cart and check if the cart remains unchanged.\n",
    "\n",
    "Test Calculating Total: \n",
    "\n",
    "Write a test method to add multiple items and verify that the total cost is calculated correctly.\n",
    "\n",
    "Test Updating Item Quantity: \n",
    "\n",
    "Write a test method that adds an item to the cart, adds the same item again with a different quantity, and verifies that the total cost and item count reflect the updated quantity.\n",
    "\n",
    "Submission:\n",
    "Write the test cases for the ShoppingCart class based on the scenario above and submit them. I’ll review your submission and provide feedback (without any code) before giving you the final answer."
   ]
  },
  {
   "cell_type": "code",
   "execution_count": null,
   "id": "43b7b011-8ff7-46bf-852b-f1b13eac3faa",
   "metadata": {},
   "outputs": [],
   "source": [
    "import unittest\n",
    "\n",
    "# the shoppingCart class\n",
    "class shoppingCart:\n",
    "    def __init__(self, initial_qunity=1):\n",
    "        self.quntity = initial_qunity\n",
    "        self.shopping[\"shopping_list\"] = []\n",
    "        self.total = sum(shopping_list['price'] for item in self.shopping) * \n",
    "\n",
    "        \n",
    "    # Test Adding Items:\n",
    "\n",
    "    # Write a test method to add an item to the cart\n",
    "    # and verify that the item count and total cost are updated correctly.  \n",
    "    \n",
    "    def add_item(self, item, price, quntity):\n",
    "        # now check if the item alrady in the chart to ajust the price and quntity\n",
    "        for items in self.shopping[\"shopping_list\"].items():\n",
    "            if item in items:\n",
    "                items[\"quntity\"] += self.quntity\n",
    "                items[\"price\"] += self.quntity * self.price \n",
    "            else:\n",
    "                self.shopping[\"shopping_list\"] = {\n",
    "                    slef.item = self.item,\n",
    "                    self.price = self.price,\n",
    "                    self.quntity = self.quntity\n",
    "                }\n",
    "\n",
    "    def remove_item(self,item):\n",
    "        \n",
    "        if self.shopping:\n",
    "            if item in self.shopping:\n",
    "                \n",
    "                \n",
    "            \n",
    "        \n",
    "        \n",
    "    \n",
    "    \n"
   ]
  }
 ],
 "metadata": {
  "kernelspec": {
   "display_name": "Python 3 (ipykernel)",
   "language": "python",
   "name": "python3"
  },
  "language_info": {
   "codemirror_mode": {
    "name": "ipython",
    "version": 3
   },
   "file_extension": ".py",
   "mimetype": "text/x-python",
   "name": "python",
   "nbconvert_exporter": "python",
   "pygments_lexer": "ipython3",
   "version": "3.11.7"
  }
 },
 "nbformat": 4,
 "nbformat_minor": 5
}
