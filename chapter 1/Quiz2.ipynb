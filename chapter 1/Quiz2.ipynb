{
 "cells": [
  {
   "cell_type": "markdown",
   "id": "57f6297c-a1dd-4071-985d-2827d3753bf9",
   "metadata": {},
   "source": [
    "# Test 2\n",
    "- Testing a ShoppingCart"
   ]
  },
  {
   "cell_type": "markdown",
   "id": "27986359-f924-4fa6-9387-cb385723f73b",
   "metadata": {},
   "source": [
    "Scenario:\n",
    "\n",
    "Testing a ShoppingCart Class You need to write test cases for a ShoppingCart class. The ShoppingCart class manages a collection of items, allowing you to add, remove, and calculate the total cost of the items in the cart. Here’s a description of the class methods:\n",
    "\n",
    "add_item(item_name, price, quantity):\n",
    "\n",
    "Adds an item to the cart. If the item already exists, it updates the quantity. remove_item(item_name): Removes an item from the cart. get_total(): Returns the total cost of all the items in the cart. get_item_count(): Returns the total number of items in the cart. Your Task: Set Up the ShoppingCart: In your setUp() method, create a ShoppingCart instance.\n",
    "\n",
    "Test Adding Items:\n",
    "\n",
    "Write a test method to add an item to the cart and verify that the item count and total cost are updated correctly.\n",
    "\n",
    "Test Removing Items:\n",
    "\n",
    "Write a test method to remove an item from the cart and verify that the item count and total cost are updated correctly.\n",
    "\n",
    "Test Removing Non-Existent Item:\n",
    "\n",
    "Write a test method that attempts to remove an item that doesn’t exist in the cart and check if the cart remains unchanged.\n",
    "\n",
    "Test Calculating Total:\n",
    "\n",
    "Write a test method to add multiple items and verify that the total cost is calculated correctly.\n",
    "\n",
    "Test Updating Item Quantity:\n",
    "\n",
    "Write a test method that adds an item to the cart, adds the same item again with a different quantity, and verifies that the total cost and item count reflect the updated quantity.\n",
    "\n",
    "Submission: Write the test cases for the ShoppingCart class based on the scenario above and submit them. I’ll review your submission and provide feedback (without any code) before giving you the final answer.\n"
   ]
  },
  {
   "cell_type": "code",
   "execution_count": null,
   "id": "6427af7c-73ed-4304-b1aa-fce3063fa46c",
   "metadata": {},
   "outputs": [],
   "source": [
    "import unittest\n",
    "\n",
    "# the shoppingCart class\n",
    "class shoppingCart:\n",
    "    def __init__(self, initial_qunity=1):\n",
    "        self.quntity = initial_qunity\n",
    "        self.shopping[\"shopping_list\"] = []\n",
    "        self.total = sum(shopping_list['price'] for item in self.shopping) * \n",
    "\n",
    "        \n",
    "    # Test Adding Items:\n",
    "\n",
    "    # Write a test method to add an item to the cart\n",
    "    # and verify that the item count and total cost are updated correctly.  \n",
    "    \n",
    "    def add_item(self, item, price, quntity):\n",
    "        # now check if the item alrady in the chart to ajust the price and quntity\n",
    "        for items in self.shopping[\"shopping_list\"].items():\n",
    "            if item in items:\n",
    "                items[\"quntity\"] += self.quntity\n",
    "                items[\"price\"] += self.quntity * self.price \n",
    "            else:\n",
    "                self.shopping[\"shopping_list\"] = {\n",
    "                    slef.item = self.item,\n",
    "                    self.price = self.price,\n",
    "                    self.quntity = self.quntity\n",
    "                }\n",
    "\n",
    "    def remove_item(self,item):\n",
    "        \n",
    "        if self.shopping:\n",
    "            if item in self.shopping:\n",
    "                \n",
    "                \n",
    "            \n",
    "        \n",
    "        \n",
    "    \n",
    "    \n"
   ]
  }
 ],
 "metadata": {
  "kernelspec": {
   "display_name": "Python 3 (ipykernel)",
   "language": "python",
   "name": "python3"
  },
  "language_info": {
   "codemirror_mode": {
    "name": "ipython",
    "version": 3
   },
   "file_extension": ".py",
   "mimetype": "text/x-python",
   "name": "python",
   "nbconvert_exporter": "python",
   "pygments_lexer": "ipython3",
   "version": "3.12.3"
  }
 },
 "nbformat": 4,
 "nbformat_minor": 5
}
