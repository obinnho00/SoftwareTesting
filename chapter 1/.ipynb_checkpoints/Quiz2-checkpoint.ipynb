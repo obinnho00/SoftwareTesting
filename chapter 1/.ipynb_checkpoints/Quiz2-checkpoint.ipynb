{
 "cells": [
  {
   "cell_type": "markdown",
   "id": "57f6297c-a1dd-4071-985d-2827d3753bf9",
   "metadata": {},
   "source": [
    "# Test 2"
   ]
  },
  {
   "cell_type": "markdown",
   "id": "27986359-f924-4fa6-9387-cb385723f73b",
   "metadata": {},
   "source": [
    "\n",
    "\n",
    "### Scenario:\n",
    "\n",
    "- **Testing a ShoppingCart Class**:  \n",
    "  You need to write test cases for a `ShoppingCart` class. The `ShoppingCart` class manages a collection of items, allowing you to add, remove, and calculate the total cost of the items in the cart.\n",
    "\n",
    "### Class Methods:\n",
    "\n",
    "- **`add_item(item_name, price, quantity)`**:  \n",
    "  Adds an item to the cart. If the item already exists, it updates the quantity.\n",
    "\n",
    "- **`remove_item(item_name)`**:  \n",
    "  Removes an item from the cart.\n",
    "\n",
    "- **`get_total()`**:  \n",
    "  Returns the total cost of all the items in the cart.\n",
    "\n",
    "- **`get_item_count()`**:  \n",
    "  Returns the total number of items in the cart.\n",
    "\n"
   ]
  },
  {
   "cell_type": "code",
   "execution_count": 1,
   "id": "6427af7c-73ed-4304-b1aa-fce3063fa46c",
   "metadata": {},
   "outputs": [],
   "source": [
    "class ShoppingCart:\n",
    "    def __init__(self, initial_quantity=1):\n",
    "        self.quantity = initial_quantity\n",
    "        self.shopping = {\"list\": []}"
   ]
  },
  {
   "cell_type": "markdown",
   "id": "5f67095d-1ba7-45ad-9f3f-5f7440645345",
   "metadata": {},
   "source": [
    "# Task 1"
   ]
  },
  {
   "cell_type": "markdown",
   "id": "4931fd46-74f8-404e-8abe-7629cdc9c1c6",
   "metadata": {},
   "source": [
    "- **`add_item(item_name, price, quantity)`**:  \n",
    "  Adds an item to the cart. If the item already exists, it updates the quantity."
   ]
  },
  {
   "cell_type": "code",
   "execution_count": 2,
   "id": "a502c30c-e1a0-490f-96b4-e479399e0880",
   "metadata": {},
   "outputs": [],
   "source": [
    "# Test Adding Items:\n",
    "# Write a test method to add an item to the cart\n",
    "# and verify that the item count and total cost are updated correctly.      \n",
    "def add_item(self, name, price, quantity):\n",
    "        found = False\n",
    "        item_dict = {\"item\": name, \"price\": price, \"quantity\": quantity}\n",
    "\n",
    "        # Check if the item already exists in the shopping list\n",
    "        for item_to_check in self.shopping[\"list\"]:\n",
    "            if item_to_check[\"item\"] == name:\n",
    "                item_to_check[\"quantity\"] += quantity  # If found, update the quantity\n",
    "                found = True  # Mark as found\n",
    "                break  # Exit the loop once the item is found and updated\n",
    "\n",
    "        # If the item is not found, add it to the shopping list\n",
    "        if not found:\n",
    "            self.shopping[\"list\"].append(item_dict)\n",
    "ShoppingCart.add_item = add_item "
   ]
  },
  {
   "cell_type": "markdown",
   "id": "5b94cf38-be4a-45a7-b2f5-239c3bb8dbdc",
   "metadata": {},
   "source": [
    "# Task 2"
   ]
  },
  {
   "cell_type": "markdown",
   "id": "73dd2028-a74d-4ad9-824f-e511ef1b0ff7",
   "metadata": {},
   "source": [
    "- **`remove_item(item_name)`**:  \n",
    "  Removes an item from the cart."
   ]
  },
  {
   "cell_type": "code",
   "execution_count": 3,
   "id": "4cbb7aa7-4bde-42ae-815b-cd8e12631447",
   "metadata": {},
   "outputs": [],
   "source": [
    "# Test Removing Items:\n",
    "# Write a test method to remove an item from the cart and verify that the item count and total cost are updated correctly.\n",
    "# function to remove the item from the shopping chart\n",
    "def remove_item(self, item_name, quantity):\n",
    "        for item in self.shopping['list']:\n",
    "            if item['item'] == item_name:\n",
    "                if item['quantity'] > quantity:\n",
    "                    item['quantity'] -= quantity  # Reduce the quantity\n",
    "                elif item['quantity'] <= quantity:\n",
    "                    self.shopping['list'].remove(item)  # Remove the item entirely if quantities match\n",
    "                return True  # Item was found and processed\n",
    "        return False  # Item was not found\n",
    "ShoppingCart.remove_item = remove_item            "
   ]
  },
  {
   "cell_type": "markdown",
   "id": "c9225060-a6a2-4b91-9161-f00b18b2e457",
   "metadata": {},
   "source": [
    "# Tasks 3"
   ]
  },
  {
   "cell_type": "markdown",
   "id": "a8d418f4-7c46-47a7-b48c-2eb5221da8ca",
   "metadata": {},
   "source": [
    "- **`get_total()`**:  \n",
    "  Returns the total cost of all the items in the cart."
   ]
  },
  {
   "cell_type": "code",
   "execution_count": 4,
   "id": "dfa30282-f368-4148-9954-cf749dd9c2d2",
   "metadata": {},
   "outputs": [],
   "source": [
    "def get_price(self): # this her willm calculate the total price \n",
    "    total = sum(total[\"price\"] * total[\"quantity\"] for total in self.shopping['list'])  \n",
    "    return total\n",
    "ShoppingCart.get_price = get_price"
   ]
  },
  {
   "cell_type": "markdown",
   "id": "2e3f26b2-6688-4f58-b641-22d0141d7f27",
   "metadata": {},
   "source": [
    "# Task 4"
   ]
  },
  {
   "cell_type": "markdown",
   "id": "48387405-f47c-4de7-b991-7c4064732ec8",
   "metadata": {},
   "source": [
    "- **`get_item_count()`**:  \n",
    "  Returns the total number of items in the cart."
   ]
  },
  {
   "cell_type": "code",
   "execution_count": 5,
   "id": "ebd202ff-a07f-4c98-8cd6-b563d80e0fca",
   "metadata": {},
   "outputs": [],
   "source": [
    "def get_item_count(self):\n",
    "    total_item = sum(total_list[\"quantity\"] for total_list in self.shopping[\"list\"])\n",
    "    return total_item \n",
    "ShoppingCart.get_item_count = get_item_count"
   ]
  },
  {
   "cell_type": "markdown",
   "id": "cab8f021-14c7-4752-911e-ccfd58d70626",
   "metadata": {},
   "source": [
    "# Task 4 \n",
    "-rset()"
   ]
  },
  {
   "cell_type": "code",
   "execution_count": 6,
   "id": "c623a3fd-d419-4918-a514-7c01443a8083",
   "metadata": {},
   "outputs": [],
   "source": [
    "def reset(self):\n",
    "    self.shopping = {\"list\": []}"
   ]
  },
  {
   "cell_type": "code",
   "execution_count": 7,
   "id": "f334f911-01fd-4f59-a172-e08793fc8ea8",
   "metadata": {},
   "outputs": [
    {
     "name": "stdout",
     "output_type": "stream",
     "text": [
      "total price =  650\n",
      "total list =  35\n"
     ]
    }
   ],
   "source": [
    "if __name__ == \"__main__\":\n",
    "    cart = ShoppingCart()\n",
    "    cart.add_item(\"mango\", 100, 2) \n",
    "    cart.add_item(\"mango\", 100, 3) \n",
    "    cart.add_item(\"grape\", 5, 30)\n",
    "    print(\"total price = \", cart.get_price())  # Should calculate the total price \n",
    "    print(\"total list = \", cart.get_item_count())  # Should return the total item count "
   ]
  },
  {
   "cell_type": "markdown",
   "id": "de027acb-15b7-4666-85f5-7094936d6458",
   "metadata": {},
   "source": [
    "### Your Task:\n",
    "\n",
    "- **Set Up the ShoppingCart**:  \n",
    "  In your `setUp()` method, create a `ShoppingCart` instance.\n",
    "\n",
    "- **Test Adding Items**:  \n",
    "  Write a test method to add an item to the cart and verify that the item count and total cost are updated correctly.\n",
    "\n",
    "- **Test Removing Items**:  \n",
    "  Write a test method to remove an item from the cart and verify that the item count and total cost are updated correctly.\n",
    "\n",
    "- **Test Removing Non-Existent Item**:  \n",
    "  Write a test method that attempts to remove an item that doesn’t exist in the cart and check if the cart remains unchanged.\n",
    "\n",
    "- **Test Calculating Total**:  \n",
    "  Write a test method to add multiple items and verify that the total cost is calculated correctly.\n",
    "\n",
    "- **Test Updating Item Quantity**:  \n",
    "  Write a test method that adds an item to the cart, adds the same item again with a different quantity, and verifies that the total cost and item count reflect the updated quantity.\n",
    "\n",
    "### Submission:\n",
    "\n",
    "- **Write the test cases** for the `ShoppingCart` class based on the scenario above and submit them. I’ll review your submission and provide feedback (without any code) before giving you the final answer."
   ]
  },
  {
   "cell_type": "code",
   "execution_count": 8,
   "id": "92265283-3700-4911-bc06-076cbaa13e6e",
   "metadata": {},
   "outputs": [
    {
     "name": "stderr",
     "output_type": "stream",
     "text": [
      "test_add_item (__main__.Testing_shopping_cart.test_add_item) ... ERROR\n",
      "test_get_price (__main__.Testing_shopping_cart.test_get_price) ... ERROR\n",
      "test_remove_item (__main__.Testing_shopping_cart.test_remove_item) ... ERROR\n",
      "test_remove_nonExist (__main__.Testing_shopping_cart.test_remove_nonExist) ... FAIL\n",
      "test_remove_nonExist (__main__.Testing_shopping_cart.test_remove_nonExist) ... ERROR\n",
      "test_update (__main__.Testing_shopping_cart.test_update) ... FAIL\n",
      "test_update (__main__.Testing_shopping_cart.test_update) ... ERROR\n",
      "\n",
      "======================================================================\n",
      "ERROR: test_add_item (__main__.Testing_shopping_cart.test_add_item)\n",
      "----------------------------------------------------------------------\n",
      "Traceback (most recent call last):\n",
      "  File \"/tmp/ipykernel_19757/2877398390.py\", line 8, in tearDown\n",
      "    self.cart.reset()  # Make sure to implement this method in ShoppingCart\n",
      "    ^^^^^^^^^^^^^^^\n",
      "AttributeError: 'ShoppingCart' object has no attribute 'reset'\n",
      "\n",
      "======================================================================\n",
      "ERROR: test_get_price (__main__.Testing_shopping_cart.test_get_price)\n",
      "----------------------------------------------------------------------\n",
      "Traceback (most recent call last):\n",
      "  File \"/tmp/ipykernel_19757/2877398390.py\", line 8, in tearDown\n",
      "    self.cart.reset()  # Make sure to implement this method in ShoppingCart\n",
      "    ^^^^^^^^^^^^^^^\n",
      "AttributeError: 'ShoppingCart' object has no attribute 'reset'\n",
      "\n",
      "======================================================================\n",
      "ERROR: test_remove_item (__main__.Testing_shopping_cart.test_remove_item)\n",
      "----------------------------------------------------------------------\n",
      "Traceback (most recent call last):\n",
      "  File \"/tmp/ipykernel_19757/2877398390.py\", line 8, in tearDown\n",
      "    self.cart.reset()  # Make sure to implement this method in ShoppingCart\n",
      "    ^^^^^^^^^^^^^^^\n",
      "AttributeError: 'ShoppingCart' object has no attribute 'reset'\n",
      "\n",
      "======================================================================\n",
      "ERROR: test_remove_nonExist (__main__.Testing_shopping_cart.test_remove_nonExist)\n",
      "----------------------------------------------------------------------\n",
      "Traceback (most recent call last):\n",
      "  File \"/tmp/ipykernel_19757/2877398390.py\", line 8, in tearDown\n",
      "    self.cart.reset()  # Make sure to implement this method in ShoppingCart\n",
      "    ^^^^^^^^^^^^^^^\n",
      "AttributeError: 'ShoppingCart' object has no attribute 'reset'\n",
      "\n",
      "======================================================================\n",
      "ERROR: test_update (__main__.Testing_shopping_cart.test_update)\n",
      "----------------------------------------------------------------------\n",
      "Traceback (most recent call last):\n",
      "  File \"/tmp/ipykernel_19757/2877398390.py\", line 8, in tearDown\n",
      "    self.cart.reset()  # Make sure to implement this method in ShoppingCart\n",
      "    ^^^^^^^^^^^^^^^\n",
      "AttributeError: 'ShoppingCart' object has no attribute 'reset'\n",
      "\n",
      "======================================================================\n",
      "FAIL: test_remove_nonExist (__main__.Testing_shopping_cart.test_remove_nonExist)\n",
      "----------------------------------------------------------------------\n",
      "Traceback (most recent call last):\n",
      "  File \"/tmp/ipykernel_19757/2877398390.py\", line 22, in test_remove_nonExist\n",
      "    with self.assertRaises(ValueError):\n",
      "AssertionError: ValueError not raised\n",
      "\n",
      "======================================================================\n",
      "FAIL: test_update (__main__.Testing_shopping_cart.test_update)\n",
      "----------------------------------------------------------------------\n",
      "Traceback (most recent call last):\n",
      "  File \"/tmp/ipykernel_19757/2877398390.py\", line 35, in test_update\n",
      "    self.assertEqual(self.cart.get_price(), 90)  # Corrected test logic\n",
      "    ^^^^^^^^^^^^^^^^^^^^^^^^^^^^^^^^^^^^^^^^^^^\n",
      "AssertionError: 250 != 90\n",
      "\n",
      "----------------------------------------------------------------------\n",
      "Ran 5 tests in 0.031s\n",
      "\n",
      "FAILED (failures=2, errors=5)\n"
     ]
    }
   ],
   "source": [
    "import unittest\n",
    "\n",
    "class Testing_shopping_cart(unittest.TestCase):\n",
    "    def setUp(self):\n",
    "        self.cart = ShoppingCart()\n",
    "\n",
    "    def tearDown(self):\n",
    "        self.cart.reset()  # Make sure to implement this method in ShoppingCart\n",
    "\n",
    "    def test_add_item(self):\n",
    "        self.cart.add_item(\"mango\", 10, 2)\n",
    "        self.assertEqual(self.cart.get_item_count(), 2)  # Correct method call\n",
    "        self.assertEqual(self.cart.get_price(), 20)  # Correct method call\n",
    "\n",
    "    def test_remove_item(self):\n",
    "        self.cart.add_item(\"mango\", 2, 10)\n",
    "        self.cart.remove_item(\"mango\", 10)  # Ensure method signature matches\n",
    "        self.assertEqual(self.cart.get_item_count(), 0)\n",
    "        self.assertEqual(self.cart.get_price(), 0)\n",
    "    \n",
    "    def test_remove_nonExist(self):\n",
    "        with self.assertRaises(ValueError):\n",
    "            self.cart.remove_item(\"Non_existent_item\", 1)  # Include quantity if required\n",
    "\n",
    "    def test_get_price(self):\n",
    "        self.cart.add_item(\"mango\", 10, 2)\n",
    "        self.cart.add_item(\"orange\", 3, 2)\n",
    "        self.cart.add_item(\"pear\", 2, 5)\n",
    "        self.cart.add_item(\"peach\", 1, 10)\n",
    "        self.assertEqual(self.cart.get_price(), 46)\n",
    "\n",
    "    def test_update(self):\n",
    "        self.cart.add_item(\"mango\", 10, 5)\n",
    "        self.cart.add_item(\"mango\", 2, 20)\n",
    "        self.assertEqual(self.cart.get_price(), 90)  # Corrected test logic\n",
    "\n",
    "if __name__ == '__main__':\n",
    "    unittest.main(argv=[''], verbosity=2, exit=False)\n"
   ]
  },
  {
   "cell_type": "code",
   "execution_count": null,
   "id": "41c80a70-9fe0-407d-8870-b34cbed49673",
   "metadata": {},
   "outputs": [],
   "source": []
  },
  {
   "cell_type": "code",
   "execution_count": null,
   "id": "d4b0eef4-2fd6-4bbc-aa75-e0823dad98ee",
   "metadata": {},
   "outputs": [],
   "source": [
    "\n",
    "    "
   ]
  },
  {
   "cell_type": "code",
   "execution_count": null,
   "id": "a0dc50c9-6011-4f39-a7f9-8643afc9604b",
   "metadata": {},
   "outputs": [],
   "source": []
  }
 ],
 "metadata": {
  "kernelspec": {
   "display_name": "Python 3 (ipykernel)",
   "language": "python",
   "name": "python3"
  },
  "language_info": {
   "codemirror_mode": {
    "name": "ipython",
    "version": 3
   },
   "file_extension": ".py",
   "mimetype": "text/x-python",
   "name": "python",
   "nbconvert_exporter": "python",
   "pygments_lexer": "ipython3",
   "version": "3.12.3"
  }
 },
 "nbformat": 4,
 "nbformat_minor": 5
}
